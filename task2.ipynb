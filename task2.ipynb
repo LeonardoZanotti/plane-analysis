{
 "metadata": {
  "language_info": {
   "codemirror_mode": {
    "name": "ipython",
    "version": 3
   },
   "file_extension": ".py",
   "mimetype": "text/x-python",
   "name": "python",
   "nbconvert_exporter": "python",
   "pygments_lexer": "ipython3",
   "version": "3.7.9-final"
  },
  "orig_nbformat": 2,
  "kernelspec": {
   "name": "python3",
   "display_name": "Python 3.7.9 64-bit",
   "metadata": {
    "interpreter": {
     "hash": "e774977668b7c0ae8309835a5187aa7fbf7669e7d0bb59755bc63e573643edcd"
    }
   }
  }
 },
 "nbformat": 4,
 "nbformat_minor": 2,
 "cells": [
  {
   "cell_type": "code",
   "execution_count": 3,
   "metadata": {},
   "outputs": [],
   "source": [
    "import pandas as pd"
   ]
  },
  {
   "cell_type": "code",
   "execution_count": 6,
   "metadata": {},
   "outputs": [
    {
     "output_type": "execute_result",
     "data": {
      "text/plain": [
       "    alpha   Beta        CL       CDi       CDv        CD   CY   Cl        Cm  \\\n",
       "0     -10      0 -0.097893  0.019669  0.091974  0.111643    0    0  0.130843   \n",
       "1      -9      0 -0.011294  0.018407  0.078432  0.096839    0    0  0.122664   \n",
       "2      -8      0  0.075471  0.017915  0.070927  0.088842    0    0  0.114057   \n",
       "3      -7      0  0.162336  0.018199  0.062086  0.080285    0    0  0.105110   \n",
       "4      -6      0  0.249233  0.019265  0.052337  0.071602    0    0  0.095820   \n",
       "5      -5      0  0.336095  0.021116  0.046943  0.068059    0    0  0.086169   \n",
       "6      -4      0  0.422853  0.023751  0.042533  0.066285    0    0  0.076199   \n",
       "7      -3      0  0.509439  0.027171  0.038477  0.065648    0    0  0.065924   \n",
       "8      -2      0  0.595787  0.031369  0.034492  0.065861    0    0  0.055355   \n",
       "9      -1      0  0.681827  0.036339  0.030654  0.066993    0    0  0.044504   \n",
       "10      0      0  0.767495  0.042072  0.027055  0.069127    0    0  0.033386   \n",
       "11      1      0  0.852722  0.048556  0.024335  0.072891    0    0  0.022017   \n",
       "12      2      0  0.937444  0.055779  0.023624  0.079403    0    0  0.010418   \n",
       "13      3      0  1.021596  0.063723  0.023190  0.086913    0    0 -0.001400   \n",
       "14      4      0  1.105113  0.072370  0.023335  0.095705    0    0 -0.013422   \n",
       "15      5      0  1.187933  0.081700  0.023681  0.105381    0    0 -0.025633   \n",
       "16      6      0  1.269994  0.091690  0.024023  0.115713    0    0 -0.038019   \n",
       "17      7      0  1.351237  0.102315  0.024429  0.126744    0    0 -0.050566   \n",
       "18      8      0  1.431601  0.113549  0.024881  0.138430    0    0 -0.063258   \n",
       "19      9      0  1.511030  0.125363  0.025706  0.151069    0    0 -0.076082   \n",
       "20     10      0  1.589469  0.137726  0.026687  0.164413    0    0 -0.089024   \n",
       "21     11      0  1.666862  0.150606  0.027676  0.178282    0    0 -0.102072   \n",
       "22     12      0  1.743159  0.163969  0.028769  0.192738    0    0 -0.115217   \n",
       "23     13      0  1.818309  0.177779  0.029984  0.207763    0    0 -0.128437   \n",
       "24     14      0  1.892263  0.191999  0.031342  0.223341    0    0 -0.141714   \n",
       "25     15      0  1.964977  0.206591  0.032835  0.239427    0    0 -0.155031   \n",
       "\n",
       "     Cn   Cni   QInf     XCP  Unnamed: 13         xflr5 v6.47  \\\n",
       "0     0     0     12  0.5835          NaN                 NaN   \n",
       "1     0     0     12  3.9122          NaN        Plane name :   \n",
       "2     0     0     12 -0.4139          NaN        Polar name :   \n",
       "3     0     0     12 -0.1126          NaN  Freestream speed :   \n",
       "4     0     0     12 -0.0213          NaN                 NaN   \n",
       "5     0     0     12  0.0228          NaN                 NaN   \n",
       "6     0     0     12  0.0488          NaN                 NaN   \n",
       "7     0     0     12  0.0659          NaN                 NaN   \n",
       "8     0     0     12  0.0781          NaN                 NaN   \n",
       "9     0     0     12  0.0872          NaN                 NaN   \n",
       "10    0     0     12  0.0943          NaN                 NaN   \n",
       "11    0     0     12  0.1000          NaN                 NaN   \n",
       "12    0     0     12  0.1047          NaN                 NaN   \n",
       "13    0     0     12  0.1086          NaN                 NaN   \n",
       "14    0     0     12  0.1120          NaN                 NaN   \n",
       "15    0     0     12  0.1149          NaN                 NaN   \n",
       "16    0     0     12  0.1175          NaN                 NaN   \n",
       "17    0     0     12  0.1198          NaN                 NaN   \n",
       "18    0     0     12  0.1219          NaN                 NaN   \n",
       "19    0     0     12  0.1238          NaN                 NaN   \n",
       "20    0     0     12  0.1256          NaN                 NaN   \n",
       "21    0     0     12  0.1273          NaN                 NaN   \n",
       "22    0     0     12  0.1288          NaN                 NaN   \n",
       "23    0     0     12  0.1302          NaN                 NaN   \n",
       "24    0     0     12  0.1316          NaN                 NaN   \n",
       "25    0     0     12  0.1330          NaN                 NaN   \n",
       "\n",
       "          Unnamed: 15  \n",
       "0                 NaN  \n",
       "1         Jose Samuel  \n",
       "2    T1-12.0 m/s-VLM2  \n",
       "3            12.0 m/s  \n",
       "4                 NaN  \n",
       "5                 NaN  \n",
       "6                 NaN  \n",
       "7                 NaN  \n",
       "8                 NaN  \n",
       "9                 NaN  \n",
       "10                NaN  \n",
       "11                NaN  \n",
       "12                NaN  \n",
       "13                NaN  \n",
       "14                NaN  \n",
       "15                NaN  \n",
       "16                NaN  \n",
       "17                NaN  \n",
       "18                NaN  \n",
       "19                NaN  \n",
       "20                NaN  \n",
       "21                NaN  \n",
       "22                NaN  \n",
       "23                NaN  \n",
       "24                NaN  \n",
       "25                NaN  "
      ],
      "text/html": "<div>\n<style scoped>\n    .dataframe tbody tr th:only-of-type {\n        vertical-align: middle;\n    }\n\n    .dataframe tbody tr th {\n        vertical-align: top;\n    }\n\n    .dataframe thead th {\n        text-align: right;\n    }\n</style>\n<table border=\"1\" class=\"dataframe\">\n  <thead>\n    <tr style=\"text-align: right;\">\n      <th></th>\n      <th>alpha</th>\n      <th>Beta</th>\n      <th>CL</th>\n      <th>CDi</th>\n      <th>CDv</th>\n      <th>CD</th>\n      <th>CY</th>\n      <th>Cl</th>\n      <th>Cm</th>\n      <th>Cn</th>\n      <th>Cni</th>\n      <th>QInf</th>\n      <th>XCP</th>\n      <th>Unnamed: 13</th>\n      <th>xflr5 v6.47</th>\n      <th>Unnamed: 15</th>\n    </tr>\n  </thead>\n  <tbody>\n    <tr>\n      <th>0</th>\n      <td>-10</td>\n      <td>0</td>\n      <td>-0.097893</td>\n      <td>0.019669</td>\n      <td>0.091974</td>\n      <td>0.111643</td>\n      <td>0</td>\n      <td>0</td>\n      <td>0.130843</td>\n      <td>0</td>\n      <td>0</td>\n      <td>12</td>\n      <td>0.5835</td>\n      <td>NaN</td>\n      <td>NaN</td>\n      <td>NaN</td>\n    </tr>\n    <tr>\n      <th>1</th>\n      <td>-9</td>\n      <td>0</td>\n      <td>-0.011294</td>\n      <td>0.018407</td>\n      <td>0.078432</td>\n      <td>0.096839</td>\n      <td>0</td>\n      <td>0</td>\n      <td>0.122664</td>\n      <td>0</td>\n      <td>0</td>\n      <td>12</td>\n      <td>3.9122</td>\n      <td>NaN</td>\n      <td>Plane name :</td>\n      <td>Jose Samuel</td>\n    </tr>\n    <tr>\n      <th>2</th>\n      <td>-8</td>\n      <td>0</td>\n      <td>0.075471</td>\n      <td>0.017915</td>\n      <td>0.070927</td>\n      <td>0.088842</td>\n      <td>0</td>\n      <td>0</td>\n      <td>0.114057</td>\n      <td>0</td>\n      <td>0</td>\n      <td>12</td>\n      <td>-0.4139</td>\n      <td>NaN</td>\n      <td>Polar name :</td>\n      <td>T1-12.0 m/s-VLM2</td>\n    </tr>\n    <tr>\n      <th>3</th>\n      <td>-7</td>\n      <td>0</td>\n      <td>0.162336</td>\n      <td>0.018199</td>\n      <td>0.062086</td>\n      <td>0.080285</td>\n      <td>0</td>\n      <td>0</td>\n      <td>0.105110</td>\n      <td>0</td>\n      <td>0</td>\n      <td>12</td>\n      <td>-0.1126</td>\n      <td>NaN</td>\n      <td>Freestream speed :</td>\n      <td>12.0 m/s</td>\n    </tr>\n    <tr>\n      <th>4</th>\n      <td>-6</td>\n      <td>0</td>\n      <td>0.249233</td>\n      <td>0.019265</td>\n      <td>0.052337</td>\n      <td>0.071602</td>\n      <td>0</td>\n      <td>0</td>\n      <td>0.095820</td>\n      <td>0</td>\n      <td>0</td>\n      <td>12</td>\n      <td>-0.0213</td>\n      <td>NaN</td>\n      <td>NaN</td>\n      <td>NaN</td>\n    </tr>\n    <tr>\n      <th>5</th>\n      <td>-5</td>\n      <td>0</td>\n      <td>0.336095</td>\n      <td>0.021116</td>\n      <td>0.046943</td>\n      <td>0.068059</td>\n      <td>0</td>\n      <td>0</td>\n      <td>0.086169</td>\n      <td>0</td>\n      <td>0</td>\n      <td>12</td>\n      <td>0.0228</td>\n      <td>NaN</td>\n      <td>NaN</td>\n      <td>NaN</td>\n    </tr>\n    <tr>\n      <th>6</th>\n      <td>-4</td>\n      <td>0</td>\n      <td>0.422853</td>\n      <td>0.023751</td>\n      <td>0.042533</td>\n      <td>0.066285</td>\n      <td>0</td>\n      <td>0</td>\n      <td>0.076199</td>\n      <td>0</td>\n      <td>0</td>\n      <td>12</td>\n      <td>0.0488</td>\n      <td>NaN</td>\n      <td>NaN</td>\n      <td>NaN</td>\n    </tr>\n    <tr>\n      <th>7</th>\n      <td>-3</td>\n      <td>0</td>\n      <td>0.509439</td>\n      <td>0.027171</td>\n      <td>0.038477</td>\n      <td>0.065648</td>\n      <td>0</td>\n      <td>0</td>\n      <td>0.065924</td>\n      <td>0</td>\n      <td>0</td>\n      <td>12</td>\n      <td>0.0659</td>\n      <td>NaN</td>\n      <td>NaN</td>\n      <td>NaN</td>\n    </tr>\n    <tr>\n      <th>8</th>\n      <td>-2</td>\n      <td>0</td>\n      <td>0.595787</td>\n      <td>0.031369</td>\n      <td>0.034492</td>\n      <td>0.065861</td>\n      <td>0</td>\n      <td>0</td>\n      <td>0.055355</td>\n      <td>0</td>\n      <td>0</td>\n      <td>12</td>\n      <td>0.0781</td>\n      <td>NaN</td>\n      <td>NaN</td>\n      <td>NaN</td>\n    </tr>\n    <tr>\n      <th>9</th>\n      <td>-1</td>\n      <td>0</td>\n      <td>0.681827</td>\n      <td>0.036339</td>\n      <td>0.030654</td>\n      <td>0.066993</td>\n      <td>0</td>\n      <td>0</td>\n      <td>0.044504</td>\n      <td>0</td>\n      <td>0</td>\n      <td>12</td>\n      <td>0.0872</td>\n      <td>NaN</td>\n      <td>NaN</td>\n      <td>NaN</td>\n    </tr>\n    <tr>\n      <th>10</th>\n      <td>0</td>\n      <td>0</td>\n      <td>0.767495</td>\n      <td>0.042072</td>\n      <td>0.027055</td>\n      <td>0.069127</td>\n      <td>0</td>\n      <td>0</td>\n      <td>0.033386</td>\n      <td>0</td>\n      <td>0</td>\n      <td>12</td>\n      <td>0.0943</td>\n      <td>NaN</td>\n      <td>NaN</td>\n      <td>NaN</td>\n    </tr>\n    <tr>\n      <th>11</th>\n      <td>1</td>\n      <td>0</td>\n      <td>0.852722</td>\n      <td>0.048556</td>\n      <td>0.024335</td>\n      <td>0.072891</td>\n      <td>0</td>\n      <td>0</td>\n      <td>0.022017</td>\n      <td>0</td>\n      <td>0</td>\n      <td>12</td>\n      <td>0.1000</td>\n      <td>NaN</td>\n      <td>NaN</td>\n      <td>NaN</td>\n    </tr>\n    <tr>\n      <th>12</th>\n      <td>2</td>\n      <td>0</td>\n      <td>0.937444</td>\n      <td>0.055779</td>\n      <td>0.023624</td>\n      <td>0.079403</td>\n      <td>0</td>\n      <td>0</td>\n      <td>0.010418</td>\n      <td>0</td>\n      <td>0</td>\n      <td>12</td>\n      <td>0.1047</td>\n      <td>NaN</td>\n      <td>NaN</td>\n      <td>NaN</td>\n    </tr>\n    <tr>\n      <th>13</th>\n      <td>3</td>\n      <td>0</td>\n      <td>1.021596</td>\n      <td>0.063723</td>\n      <td>0.023190</td>\n      <td>0.086913</td>\n      <td>0</td>\n      <td>0</td>\n      <td>-0.001400</td>\n      <td>0</td>\n      <td>0</td>\n      <td>12</td>\n      <td>0.1086</td>\n      <td>NaN</td>\n      <td>NaN</td>\n      <td>NaN</td>\n    </tr>\n    <tr>\n      <th>14</th>\n      <td>4</td>\n      <td>0</td>\n      <td>1.105113</td>\n      <td>0.072370</td>\n      <td>0.023335</td>\n      <td>0.095705</td>\n      <td>0</td>\n      <td>0</td>\n      <td>-0.013422</td>\n      <td>0</td>\n      <td>0</td>\n      <td>12</td>\n      <td>0.1120</td>\n      <td>NaN</td>\n      <td>NaN</td>\n      <td>NaN</td>\n    </tr>\n    <tr>\n      <th>15</th>\n      <td>5</td>\n      <td>0</td>\n      <td>1.187933</td>\n      <td>0.081700</td>\n      <td>0.023681</td>\n      <td>0.105381</td>\n      <td>0</td>\n      <td>0</td>\n      <td>-0.025633</td>\n      <td>0</td>\n      <td>0</td>\n      <td>12</td>\n      <td>0.1149</td>\n      <td>NaN</td>\n      <td>NaN</td>\n      <td>NaN</td>\n    </tr>\n    <tr>\n      <th>16</th>\n      <td>6</td>\n      <td>0</td>\n      <td>1.269994</td>\n      <td>0.091690</td>\n      <td>0.024023</td>\n      <td>0.115713</td>\n      <td>0</td>\n      <td>0</td>\n      <td>-0.038019</td>\n      <td>0</td>\n      <td>0</td>\n      <td>12</td>\n      <td>0.1175</td>\n      <td>NaN</td>\n      <td>NaN</td>\n      <td>NaN</td>\n    </tr>\n    <tr>\n      <th>17</th>\n      <td>7</td>\n      <td>0</td>\n      <td>1.351237</td>\n      <td>0.102315</td>\n      <td>0.024429</td>\n      <td>0.126744</td>\n      <td>0</td>\n      <td>0</td>\n      <td>-0.050566</td>\n      <td>0</td>\n      <td>0</td>\n      <td>12</td>\n      <td>0.1198</td>\n      <td>NaN</td>\n      <td>NaN</td>\n      <td>NaN</td>\n    </tr>\n    <tr>\n      <th>18</th>\n      <td>8</td>\n      <td>0</td>\n      <td>1.431601</td>\n      <td>0.113549</td>\n      <td>0.024881</td>\n      <td>0.138430</td>\n      <td>0</td>\n      <td>0</td>\n      <td>-0.063258</td>\n      <td>0</td>\n      <td>0</td>\n      <td>12</td>\n      <td>0.1219</td>\n      <td>NaN</td>\n      <td>NaN</td>\n      <td>NaN</td>\n    </tr>\n    <tr>\n      <th>19</th>\n      <td>9</td>\n      <td>0</td>\n      <td>1.511030</td>\n      <td>0.125363</td>\n      <td>0.025706</td>\n      <td>0.151069</td>\n      <td>0</td>\n      <td>0</td>\n      <td>-0.076082</td>\n      <td>0</td>\n      <td>0</td>\n      <td>12</td>\n      <td>0.1238</td>\n      <td>NaN</td>\n      <td>NaN</td>\n      <td>NaN</td>\n    </tr>\n    <tr>\n      <th>20</th>\n      <td>10</td>\n      <td>0</td>\n      <td>1.589469</td>\n      <td>0.137726</td>\n      <td>0.026687</td>\n      <td>0.164413</td>\n      <td>0</td>\n      <td>0</td>\n      <td>-0.089024</td>\n      <td>0</td>\n      <td>0</td>\n      <td>12</td>\n      <td>0.1256</td>\n      <td>NaN</td>\n      <td>NaN</td>\n      <td>NaN</td>\n    </tr>\n    <tr>\n      <th>21</th>\n      <td>11</td>\n      <td>0</td>\n      <td>1.666862</td>\n      <td>0.150606</td>\n      <td>0.027676</td>\n      <td>0.178282</td>\n      <td>0</td>\n      <td>0</td>\n      <td>-0.102072</td>\n      <td>0</td>\n      <td>0</td>\n      <td>12</td>\n      <td>0.1273</td>\n      <td>NaN</td>\n      <td>NaN</td>\n      <td>NaN</td>\n    </tr>\n    <tr>\n      <th>22</th>\n      <td>12</td>\n      <td>0</td>\n      <td>1.743159</td>\n      <td>0.163969</td>\n      <td>0.028769</td>\n      <td>0.192738</td>\n      <td>0</td>\n      <td>0</td>\n      <td>-0.115217</td>\n      <td>0</td>\n      <td>0</td>\n      <td>12</td>\n      <td>0.1288</td>\n      <td>NaN</td>\n      <td>NaN</td>\n      <td>NaN</td>\n    </tr>\n    <tr>\n      <th>23</th>\n      <td>13</td>\n      <td>0</td>\n      <td>1.818309</td>\n      <td>0.177779</td>\n      <td>0.029984</td>\n      <td>0.207763</td>\n      <td>0</td>\n      <td>0</td>\n      <td>-0.128437</td>\n      <td>0</td>\n      <td>0</td>\n      <td>12</td>\n      <td>0.1302</td>\n      <td>NaN</td>\n      <td>NaN</td>\n      <td>NaN</td>\n    </tr>\n    <tr>\n      <th>24</th>\n      <td>14</td>\n      <td>0</td>\n      <td>1.892263</td>\n      <td>0.191999</td>\n      <td>0.031342</td>\n      <td>0.223341</td>\n      <td>0</td>\n      <td>0</td>\n      <td>-0.141714</td>\n      <td>0</td>\n      <td>0</td>\n      <td>12</td>\n      <td>0.1316</td>\n      <td>NaN</td>\n      <td>NaN</td>\n      <td>NaN</td>\n    </tr>\n    <tr>\n      <th>25</th>\n      <td>15</td>\n      <td>0</td>\n      <td>1.964977</td>\n      <td>0.206591</td>\n      <td>0.032835</td>\n      <td>0.239427</td>\n      <td>0</td>\n      <td>0</td>\n      <td>-0.155031</td>\n      <td>0</td>\n      <td>0</td>\n      <td>12</td>\n      <td>0.1330</td>\n      <td>NaN</td>\n      <td>NaN</td>\n      <td>NaN</td>\n    </tr>\n  </tbody>\n</table>\n</div>"
     },
     "metadata": {},
     "execution_count": 6
    }
   ],
   "source": [
    "file = pd.read_csv('./T1-12_0 m_s-VLM2.csv')\n",
    "file"
   ]
  },
  {
   "cell_type": "code",
   "execution_count": null,
   "metadata": {},
   "outputs": [],
   "source": []
  }
 ]
}